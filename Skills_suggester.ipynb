{
 "cells": [
  {
   "cell_type": "code",
   "execution_count": 1,
   "id": "a007856e",
   "metadata": {},
   "outputs": [],
   "source": [
    "def rem(L):\n",
    "    L1 = []\n",
    "    for i in L:\n",
    "        L1.append(i.replace(\" \",\"\"))\n",
    "    return L1\n"
   ]
  },
  {
   "cell_type": "code",
   "execution_count": 2,
   "id": "c17a528f",
   "metadata": {
    "scrolled": true
   },
   "outputs": [],
   "source": [
    "# Import necessary libraries\n",
    "import pandas as pd\n",
    "from sklearn.feature_extraction.text import TfidfVectorizer\n",
    "from sklearn.metrics.pairwise import linear_kernel\n",
    "\n",
    "import pickle\n",
    "\n",
    "# Load data containing skills, industries, companies, and popularity scores\n",
    "df = pd.read_csv('skills_data.csv')\n",
    "\n"
   ]
  },
  {
   "cell_type": "code",
   "execution_count": 3,
   "id": "5f6d0d39",
   "metadata": {},
   "outputs": [],
   "source": [
    "def merge_skills_and_companies(df):\n",
    "    # Iterate through each row\n",
    "    for index, row in df.iterrows():\n",
    "        # Remove spaces and then merge all elements in the Skill column for the current row\n",
    "        merged_skill = ''.join(row['Skill']).replace(' ', '')\n",
    "        # Replace the Skill column value with the merged string\n",
    "        df.at[index, 'Skill'] = merged_skill\n",
    "        \n",
    "        # Remove spaces and then merge all elements in the Companies column for the current row\n",
    "        merged_companies = ''.join(row['Companies']).replace(' ', '')\n",
    "        # Replace the Companies column value with the merged string\n",
    "        df.at[index, 'Companies'] = merged_companies\n",
    "        \n",
    "    return df\n",
    "\n",
    "# Assuming 'df' is your DataFrame containing the data\n",
    "# Call the function to merge the skills and companies\n",
    "merged_df = merge_skills_and_companies(df)\n"
   ]
  },
  {
   "cell_type": "code",
   "execution_count": 4,
   "id": "bca21768",
   "metadata": {},
   "outputs": [
    {
     "data": {
      "text/html": [
       "<div>\n",
       "<style scoped>\n",
       "    .dataframe tbody tr th:only-of-type {\n",
       "        vertical-align: middle;\n",
       "    }\n",
       "\n",
       "    .dataframe tbody tr th {\n",
       "        vertical-align: top;\n",
       "    }\n",
       "\n",
       "    .dataframe thead th {\n",
       "        text-align: right;\n",
       "    }\n",
       "</style>\n",
       "<table border=\"1\" class=\"dataframe\">\n",
       "  <thead>\n",
       "    <tr style=\"text-align: right;\">\n",
       "      <th></th>\n",
       "      <th>Skill</th>\n",
       "      <th>Companies</th>\n",
       "      <th>Popularity Index</th>\n",
       "    </tr>\n",
       "  </thead>\n",
       "  <tbody>\n",
       "    <tr>\n",
       "      <th>0</th>\n",
       "      <td>PythonProgramming</td>\n",
       "      <td>ABCCorp,XYZInc,TechSolutions,DataCo.</td>\n",
       "      <td>85</td>\n",
       "    </tr>\n",
       "    <tr>\n",
       "      <th>1</th>\n",
       "      <td>DataAnalysis</td>\n",
       "      <td>ABCCorp,DataCo.,TechSolutions,AnalyticsLLC</td>\n",
       "      <td>78</td>\n",
       "    </tr>\n",
       "    <tr>\n",
       "      <th>2</th>\n",
       "      <td>MachineLearning</td>\n",
       "      <td>XYZInc,TechSolutions,DataCo.,AnalyticsLLC</td>\n",
       "      <td>90</td>\n",
       "    </tr>\n",
       "    <tr>\n",
       "      <th>3</th>\n",
       "      <td>JavaDevelopment</td>\n",
       "      <td>ABCCorp,TechSolutions,WebCo.,XYZInc</td>\n",
       "      <td>75</td>\n",
       "    </tr>\n",
       "    <tr>\n",
       "      <th>4</th>\n",
       "      <td>WebDevelopment</td>\n",
       "      <td>XYZInc,WebCo.,TechSolutions,ABCCorp</td>\n",
       "      <td>80</td>\n",
       "    </tr>\n",
       "  </tbody>\n",
       "</table>\n",
       "</div>"
      ],
      "text/plain": [
       "               Skill                                   Companies  \\\n",
       "0  PythonProgramming        ABCCorp,XYZInc,TechSolutions,DataCo.   \n",
       "1       DataAnalysis  ABCCorp,DataCo.,TechSolutions,AnalyticsLLC   \n",
       "2    MachineLearning   XYZInc,TechSolutions,DataCo.,AnalyticsLLC   \n",
       "3    JavaDevelopment         ABCCorp,TechSolutions,WebCo.,XYZInc   \n",
       "4     WebDevelopment         XYZInc,WebCo.,TechSolutions,ABCCorp   \n",
       "\n",
       "   Popularity Index  \n",
       "0                85  \n",
       "1                78  \n",
       "2                90  \n",
       "3                75  \n",
       "4                80  "
      ]
     },
     "execution_count": 4,
     "metadata": {},
     "output_type": "execute_result"
    }
   ],
   "source": [
    "df.head()"
   ]
  },
  {
   "cell_type": "code",
   "execution_count": 5,
   "id": "15abcd25",
   "metadata": {},
   "outputs": [],
   "source": [
    "\n",
    "from sklearn.feature_extraction.text import CountVectorizer\n",
    "cv = CountVectorizer(max_features=5000,stop_words='english')"
   ]
  },
  {
   "cell_type": "code",
   "execution_count": 6,
   "id": "0de1ef41",
   "metadata": {},
   "outputs": [],
   "source": [
    "vector = cv.fit_transform(df['Companies']).toarray()"
   ]
  },
  {
   "cell_type": "code",
   "execution_count": 7,
   "id": "980fb96c",
   "metadata": {},
   "outputs": [
    {
     "data": {
      "text/plain": [
       "array([1, 0, 0, 1, 1, 0, 1], dtype=int64)"
      ]
     },
     "execution_count": 7,
     "metadata": {},
     "output_type": "execute_result"
    }
   ],
   "source": [
    "vector[0]"
   ]
  },
  {
   "cell_type": "code",
   "execution_count": 8,
   "id": "113ad2ce",
   "metadata": {},
   "outputs": [],
   "source": [
    "from sklearn.metrics.pairwise import cosine_similarity"
   ]
  },
  {
   "cell_type": "code",
   "execution_count": 9,
   "id": "4d4b8223",
   "metadata": {},
   "outputs": [],
   "source": [
    "sim = cosine_similarity(vector)"
   ]
  },
  {
   "cell_type": "code",
   "execution_count": 10,
   "id": "1d08e4d3",
   "metadata": {},
   "outputs": [
    {
     "name": "stdout",
     "output_type": "stream",
     "text": [
      "Please enter the skill: PythonProgramming\n",
      "['MachineLearning', 'WebDevelopment', 'DataAnalysis', 'JavaDevelopment', 'NaturalLanguageProcessing']\n"
     ]
    }
   ],
   "source": [
    "L2= []\n",
    "\n",
    "def recommend(movie):\n",
    "    index = df[df['Skill'] == movie].index[0]  # Assuming 'df' is your DataFrame containing the data\n",
    "    distances = sorted(enumerate(sim[index]), reverse=True, key=lambda x: x[1])\n",
    "    \n",
    "    # Sort distances based on popularity index of recommended skills\n",
    "    distances = sorted(distances[1:6], key=lambda x: df.iloc[x[0]]['Popularity Index'], reverse=True)\n",
    "    \n",
    "    for i in distances:\n",
    "        L2.append(df.iloc[i[0]]['Skill'])  # Print the recommended skills\n",
    "        \n",
    "    return L2\n",
    "\n",
    "# Call the function with a skill title\n",
    "a = input(\"Please enter the skill: \")\n",
    "recommend(a)  # Replace 'Python' with the skill you want recommendations for\n",
    "\n",
    "print(L2)\n"
   ]
  },
  {
   "cell_type": "code",
   "execution_count": 11,
   "id": "9d107c64",
   "metadata": {},
   "outputs": [],
   "source": [
    "pickle.dump(sim,open('similarity.pkl','wb'))"
   ]
  },
  {
   "cell_type": "code",
   "execution_count": null,
   "id": "fc8bdb76",
   "metadata": {},
   "outputs": [],
   "source": []
  }
 ],
 "metadata": {
  "kernelspec": {
   "display_name": "Python 3 (ipykernel)",
   "language": "python",
   "name": "python3"
  },
  "language_info": {
   "codemirror_mode": {
    "name": "ipython",
    "version": 3
   },
   "file_extension": ".py",
   "mimetype": "text/x-python",
   "name": "python",
   "nbconvert_exporter": "python",
   "pygments_lexer": "ipython3",
   "version": "3.11.5"
  }
 },
 "nbformat": 4,
 "nbformat_minor": 5
}
